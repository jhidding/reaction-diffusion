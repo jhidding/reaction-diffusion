{
 "cells": [
  {
   "cell_type": "code",
   "execution_count": 1,
   "id": "51e07b49-71ac-4aa1-b930-27ee1ddd0c9e",
   "metadata": {},
   "outputs": [],
   "source": [
    "import numpy as np\n",
    "import h5py as h5\n",
    "from numba import njit\n",
    "\n",
    "\n",
    "@njit\n",
    "def grad2(x: np.array):\n",
    "    m, n = x.shape\n",
    "    y = np.zeros_like(x)\n",
    "    for i in range(m):\n",
    "        for j in range(n):\n",
    "            y[i,j] = x[(i-1)%m,j] + x[i,(j-1)%n] \\\n",
    "                   + x[(i+1)%m,j] + x[i,(j+1)%n] - 4*x[i,j]\n",
    "    return y\n",
    "\n",
    "\n",
    "def euler_method(df, y_init, t_init, t_end, t_step):\n",
    "    n_steps = int((t_end - t_init) / t_step)\n",
    "    y = y_init\n",
    "    times = (t_init + i*t_step for i in range(n_steps))\n",
    "    return (y := y + df(y, t)*t_step for t in times)\n",
    "\n",
    "\n",
    "def initial_state(shape) -> np.ndarray:\n",
    "    U = np.ones(shape, dtype=np.float32)\n",
    "    V = np.zeros(shape, dtype=np.float32)\n",
    "\n",
    "    centre = (slice(shape[0]//2-10, shape[0]//2+10),\n",
    "              slice(shape[1]//2-10, shape[1]//2+10))\n",
    "    U[centre] = 1/2\n",
    "    V[centre] = 1/4\n",
    "\n",
    "    U += np.random.normal(0.0, 0.01, size=shape)\n",
    "    V += np.random.normal(0.0, 0.01, size=shape)\n",
    "\n",
    "    return np.stack((U, V))\n",
    "\n",
    "\n",
    "def reaction_diffusion(F, k, D_u=2e-5, D_v=1e-5, res=0.01):\n",
    "    def df(state: np.ndarray, _: float) -> np.ndarray:\n",
    "        U, V = state\n",
    "        du = D_u*grad2(U)/res**2 - U*V**2 + F*(1 - U)\n",
    "        dv = D_v*grad2(V)/res**2 + U*V**2 - (F + k)*V\n",
    "        return np.stack((du, dv))\n",
    "    return df\n",
    "\n",
    "\n",
    "def run_model(k, F, t_end=10_000, write_interval=20, shape=(256, 256)):\n",
    "    n_snaps = t_end // write_interval\n",
    "    result = np.zeros(shape=[n_snaps, 2, shape[0], shape[1]],\n",
    "                      dtype=np.float32)\n",
    "\n",
    "    rd = reaction_diffusion(k=k, F=F)\n",
    "    init = initial_state(shape=shape)\n",
    "    comp = euler_method(rd, init, 0, t_end, 1)\n",
    "    for i, snap in enumerate(comp):\n",
    "        if i % write_interval == 0:\n",
    "            result[i // write_interval] = snap\n",
    "    \n",
    "    return result\n",
    "\n",
    "\n",
    "k_values = np.linspace(0.03, 0.07, 11)\n",
    "F_values = np.linspace(0.00, 0.08, 11)"
   ]
  },
  {
   "cell_type": "code",
   "execution_count": 4,
   "id": "f6b6ef15-9418-49fa-a341-1887d96b37be",
   "metadata": {},
   "outputs": [],
   "source": [
    "from itertools import product\n",
    "from multiprocessing import Pool"
   ]
  },
  {
   "cell_type": "code",
   "execution_count": 8,
   "id": "52a55327-9e0b-4ac5-9c60-5d4e0cfdda0a",
   "metadata": {},
   "outputs": [],
   "source": [
    "parameter_space = product(k_values, F_values)"
   ]
  },
  {
   "cell_type": "code",
   "execution_count": 9,
   "id": "3ec4f39b-3347-4c11-beb1-4cd9f92c5530",
   "metadata": {},
   "outputs": [
    {
     "name": "stdout",
     "output_type": "stream",
     "text": [
      "CPU times: user 94.2 ms, sys: 71.6 ms, total: 166 ms\n",
      "Wall time: 4min 21s\n"
     ]
    }
   ],
   "source": [
    "%%time\n",
    "\n",
    "def run(k, F):\n",
    "    return run_model(k, F, write_interval=10_000)\n",
    "\n",
    "with Pool(processes=8) as p:\n",
    "    output = p.starmap(run, parameter_space)"
   ]
  },
  {
   "cell_type": "code",
   "execution_count": null,
   "id": "1c3a1378-4ba3-4289-8901-1d0840d62daf",
   "metadata": {},
   "outputs": [],
   "source": []
  }
 ],
 "metadata": {
  "kernelspec": {
   "display_name": "Python 3 (ipykernel)",
   "language": "python",
   "name": "python3"
  },
  "language_info": {
   "codemirror_mode": {
    "name": "ipython",
    "version": 3
   },
   "file_extension": ".py",
   "mimetype": "text/x-python",
   "name": "python",
   "nbconvert_exporter": "python",
   "pygments_lexer": "ipython3",
   "version": "3.9.7"
  }
 },
 "nbformat": 4,
 "nbformat_minor": 5
}
